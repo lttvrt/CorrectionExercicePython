{
  "nbformat": 4,
  "nbformat_minor": 0,
  "metadata": {
    "colab": {
      "provenance": [],
      "toc_visible": true
    },
    "kernelspec": {
      "name": "python3",
      "display_name": "Python 3"
    },
    "language_info": {
      "name": "python"
    }
  },
  "cells": [
    {
      "cell_type": "markdown",
      "source": [
        "## Exercice 1 : Calcul de Moyenne\n",
        "Écrivez un programme qui calcule la moyenne de trois nombres saisis par l'utilisateur et affiche le résultat."
      ],
      "metadata": {
        "id": "6zU1yHguIi5O"
      }
    },
    {
      "cell_type": "code",
      "source": [
        "1# Demander à l'utilisateur de saisir trois nombres\n",
        "nombre1 = float(input(\"Entrez le premier nombre : \"))\n",
        "nombre2 = float(input(\"Entrez le deuxième nombre : \"))\n",
        "nombre3 = float(input(\"Entrez le troisième nombre : \"))\n",
        "\n",
        "# Calculer la moyenne des trois nombres\n",
        "moyenne = (nombre1 + nombre2 + nombre3) / 3\n",
        "\n",
        "# Afficher le résultat\n",
        "print(\"La moyenne des trois nombres est :\", moyenne)"
      ],
      "metadata": {
        "id": "MOFkAfGzIpGd",
        "colab": {
          "base_uri": "https://localhost:8080/"
        },
        "outputId": "97736c8d-4130-4189-8f0c-4ea0510e5515"
      },
      "execution_count": null,
      "outputs": [
        {
          "output_type": "stream",
          "name": "stdout",
          "text": [
            "Entrez le premier nombre : 1\n",
            "Entrez le deuxième nombre : 1\n",
            "Entrez le troisième nombre : 1\n",
            "La moyenne des trois nombres est : 1.0\n"
          ]
        }
      ]
    },
    {
      "cell_type": "markdown",
      "source": [
        "## Exercice 2 : Table de Multiplication\n",
        "Écrivez un programme qui demande à l'utilisateur de saisir un nombre, puis affiche la table de multiplication de ce nombre de 1 à 10."
      ],
      "metadata": {
        "id": "fd-BYlGHJBoT"
      }
    },
    {
      "cell_type": "code",
      "source": [
        "# Demander à l'utilisateur de saisir un nombre\n",
        "nombre = int(input(\"Entrez un nombre : \"))\n",
        "\n",
        "# Afficher la table de multiplication de ce nombre de 1 à 10\n",
        "print(nombre, \"x 1 =\", nombre * 1)\n",
        "print(nombre, \"x 2 =\", nombre * 2)\n",
        "print(nombre, \"x 3 =\", nombre * 3)\n",
        "print(nombre, \"x 4 =\", nombre * 4)\n",
        "print(nombre, \"x 5 =\", nombre * 5)\n",
        "print(nombre, \"x 6 =\", nombre * 6)\n",
        "print(nombre, \"x 7 =\", nombre * 7)\n",
        "print(nombre, \"x 8 =\", nombre * 8)\n",
        "print(nombre, \"x 9 =\", nombre * 9)\n",
        "print(nombre, \"x 10 =\", nombre * 10)"
      ],
      "metadata": {
        "id": "J_NgEys_JEe0",
        "colab": {
          "base_uri": "https://localhost:8080/"
        },
        "outputId": "04e1a51f-5a66-4879-e10d-e13eb508ea52"
      },
      "execution_count": null,
      "outputs": [
        {
          "output_type": "stream",
          "name": "stdout",
          "text": [
            "Entrez un nombre : 11\n",
            "11 x 1 = 11\n",
            "11 x 2 = 22\n",
            "11 x 3 = 33\n",
            "11 x 4 = 44\n",
            "11 x 5 = 55\n",
            "11 x 6 = 66\n",
            "11 x 7 = 77\n",
            "11 x 8 = 88\n",
            "11 x 9 = 99\n",
            "11 x 10 = 110\n"
          ]
        }
      ]
    },
    {
      "cell_type": "markdown",
      "source": [
        "## Exercice 3 : Addition de Nombres\n",
        "Écrivez un programme qui demande à l'utilisateur de saisir une série de 3 nombres et affiche la somme de ces nombres."
      ],
      "metadata": {
        "id": "iputHUNGIxhc"
      }
    },
    {
      "cell_type": "code",
      "source": [
        "# Demander à l'utilisateur de saisir une série de 3 nombres\n",
        "nombre1 = float(input(\"Entrez le premier nombre : \"))\n",
        "nombre2 = float(input(\"Entrez le deuxième nombre : \"))\n",
        "nombre3 = float(input(\"Entrez le troisième nombre : \"))\n",
        "\n",
        "# Calculer la somme des trois nombres\n",
        "somme = nombre1 + nombre2 + nombre3\n",
        "\n",
        "# Afficher le résultat\n",
        "print(\"La somme des trois nombres est :\", somme)"
      ],
      "metadata": {
        "id": "LGpfyfUqI18e",
        "colab": {
          "base_uri": "https://localhost:8080/"
        },
        "outputId": "580ac8d7-3c7f-4374-9403-09c4391d9f13"
      },
      "execution_count": null,
      "outputs": [
        {
          "output_type": "stream",
          "name": "stdout",
          "text": [
            "Entrez le premier nombre : 3.5\n",
            "Entrez le deuxième nombre : 3.7\n",
            "Entrez le troisième nombre : 3.8\n",
            "La somme des trois nombres est : 11.0\n"
          ]
        }
      ]
    },
    {
      "cell_type": "markdown",
      "source": [
        "## Exercice 4 : Calcul de l'aire d'un Rectangle\n",
        "Écrivez un programme qui demande à l'utilisateur de saisir la longueur et la largeur d'un rectangle, puis calcule et affiche l'aire du rectangle."
      ],
      "metadata": {
        "id": "Pv3-2-5sJI_e"
      }
    },
    {
      "cell_type": "code",
      "source": [
        "# Demander à l'utilisateur de saisir la longueur et la largeur du rectangle\n",
        "longueur = float(input(\"Entrez la longueur du rectangle : \"))\n",
        "largeur = float(input(\"Entrez la largeur du rectangle : \"))\n",
        "\n",
        "# Calculer l'aire du rectangle\n",
        "aire = longueur * largeur\n",
        "\n",
        "# Afficher le résultat\n",
        "print(\"L'aire du rectangle est :\", aire)"
      ],
      "metadata": {
        "id": "PANsVl3gJJdW",
        "colab": {
          "base_uri": "https://localhost:8080/"
        },
        "outputId": "3ea7dd0a-51d7-4ebe-8325-fcd863c48d4b"
      },
      "execution_count": null,
      "outputs": [
        {
          "output_type": "stream",
          "name": "stdout",
          "text": [
            "Entrez la longueur du rectangle : 2\n",
            "Entrez la largeur du rectangle : 2\n",
            "L'aire du rectangle est : 4.0\n"
          ]
        }
      ]
    },
    {
      "cell_type": "markdown",
      "source": [
        "\n",
        "<br><br><br><br>\n",
        "--- ---\n",
        "<br><br><br><br>\n",
        "\n",
        "\n"
      ],
      "metadata": {
        "id": "5SMwrg8zJNQM"
      }
    },
    {
      "cell_type": "markdown",
      "source": [
        "## Exercice 5 : Check des Notes\n",
        "Écrire un programme qui demande à l'utilisateur de saisir une note entre 0 et 20 et qui affiche \"Très bien\" si la note est supérieure ou égale à 16, \"Bien\" si la note est supérieure ou égale à 12 et inférieure à 16, \"Moyen\" si la note est supérieure ou égale à 8 et inférieure à 12, \"Insuffisant\" si la note est inférieure à 8."
      ],
      "metadata": {
        "id": "amR3TIGXKqaR"
      }
    },
    {
      "cell_type": "code",
      "source": [
        "# Demander à l'utilisateur de saisir une note entre 0 et 20\n",
        "note = float(input(\"Entrez une note entre 0 et 20 : \"))\n",
        "\n",
        "# Vérifier la valeur de la note et afficher le message correspondant\n",
        "if note >= 16:\n",
        "    print(\"Très bien\")\n",
        "elif note >= 12:\n",
        "    print(\"Bien\")\n",
        "elif note >= 8:\n",
        "    print(\"Moyen\")\n",
        "else:\n",
        "    print(\"Insuffisant\")"
      ],
      "metadata": {
        "id": "FK2kDBTaKqzt",
        "colab": {
          "base_uri": "https://localhost:8080/"
        },
        "outputId": "95991cfa-9411-4763-fd47-5f44f2784f0a"
      },
      "execution_count": null,
      "outputs": [
        {
          "output_type": "stream",
          "name": "stdout",
          "text": [
            "Entrez une note entre 0 et 20 : 8\n",
            "Moyen\n"
          ]
        }
      ]
    },
    {
      "cell_type": "markdown",
      "source": [
        "## Exercice 6 : Vérification de Parité\n",
        "Écrivez un programme qui demande à l'utilisateur de saisir un nombre entier, puis affiche si le nombre est pair ou impair.\n",
        "\n",
        "Utilisez les différentes divisions (/, // et %)\n"
      ],
      "metadata": {
        "id": "WfzpZcATIpv0"
      }
    },
    {
      "cell_type": "code",
      "source": [
        "# Demander à l'utilisateur de saisir un nombre entier\n",
        "nombre = int(input(\"Entrez un nombre entier : \"))\n",
        "\n",
        "\n",
        "# Vérifier si le nombre est pair ou impair en utilisant la division entière et le modulo\n",
        "if nombre % 2 == 0:\n",
        "    print(\"Le nombre est pair\")\n",
        "else:\n",
        "    print(\"Le nombre est impair\")\n",
        "\n",
        "\n",
        "# Vérifier si le nombre est pair ou impair en utilisant la division entière\n",
        "if nombre // 2 * 2 == nombre:\n",
        "    print(\"Le nombre est pair\")\n",
        "else:\n",
        "    print(\"Le nombre est impair\")\n",
        "\n",
        "\n",
        "# Vérifier si le nombre est pair ou impair en utilisant la division\n",
        "if nombre / 2 == nombre // 2:\n",
        "    print(\"Le nombre est pair\")\n",
        "else:\n",
        "    print(\"Le nombre est impair\")"
      ],
      "metadata": {
        "id": "Ca1wY0EzIuJE",
        "colab": {
          "base_uri": "https://localhost:8080/"
        },
        "outputId": "e704eb64-3035-4628-8a6f-4fd4edd386b4"
      },
      "execution_count": null,
      "outputs": [
        {
          "output_type": "stream",
          "name": "stdout",
          "text": [
            "Entrez un nombre entier : -2\n",
            "Le nombre est pair\n",
            "Le nombre est pair\n",
            "Le nombre est pair\n"
          ]
        }
      ]
    },
    {
      "cell_type": "markdown",
      "source": [
        "## Exercice 7 : Triangle rectangle\n",
        "\n",
        "Écrire un programme qui demande à l'utilisateur de saisir trois nombres et qui affiche \"Triangle rectangle\" si les trois nombres peuvent former un triangle rectangle (c'est-à-dire si le carré du plus grand côté est égal à la somme des carrés des deux autres côtés), \"Triangle non rectangle\" sinon."
      ],
      "metadata": {
        "id": "kNa7pU6rK-Xh"
      }
    },
    {
      "cell_type": "code",
      "source": [
        "# Demander à l'utilisateur de saisir trois nombres\n",
        "cote1 = float(input(\"Entrez la longueur du premier côté : \"))\n",
        "cote2 = float(input(\"Entrez la longueur du deuxième côté : \"))\n",
        "cote3 = float(input(\"Entrez la longueur du troisième côté : \"))\n",
        "\n",
        "# Vérifier si les trois nombres peuvent former un triangle rectangle\n",
        "if cote1**2 + cote2**2 == cote3**2 or cote1**2 + cote3**2 == cote2**2 or cote2**2 + cote3**2 == cote1**2:\n",
        "    print(\"Triangle rectangle\")\n",
        "else:\n",
        "    print(\"Triangle non rectangle\")\n",
        "\n",
        "## Test possible avec 3, 4, 5"
      ],
      "metadata": {
        "id": "1aNsNiTjL1XJ",
        "colab": {
          "base_uri": "https://localhost:8080/"
        },
        "outputId": "5ea5fb33-69a1-4d9d-cd1d-12212de21e5e"
      },
      "execution_count": null,
      "outputs": [
        {
          "output_type": "stream",
          "name": "stdout",
          "text": [
            "Entrez la longueur du premier côté : 3\n",
            "Entrez la longueur du deuxième côté : 4\n",
            "Entrez la longueur du troisième côté : 5\n",
            "Triangle rectangle\n"
          ]
        }
      ]
    },
    {
      "cell_type": "markdown",
      "source": [
        "## Exercice 8 : Année bissextile\n",
        "Écrire un programme qui demande à l'utilisateur de saisir une variable année et qui affiche \"Bissextile\" si l'année est bissextile, \"Pas bissextile\" sinon.\n",
        "\n",
        "Rappel : une année est bissextile si elle est divisible par 4 mais pas par 100, ou si elle est divisible par 400. Attention : il faut vérifier que la date saisie est valide (par exemple, le mois doit être compris entre 1 et 12 et le jour doit être compris entre 1 et le nombre de jours du mois en question)."
      ],
      "metadata": {
        "id": "-4C7kyqIL8ir"
      }
    },
    {
      "cell_type": "code",
      "source": [
        "# Demander à l'utilisateur de saisir une année\n",
        "annee = int(input(\"Entrez une année : \"))\n",
        "\n",
        "# Vérifier si l'année est bissextile\n",
        "if annee % 4 == 0 and (annee % 100 != 0 or annee % 400 == 0):\n",
        "    print(\"Bissextile\")\n",
        "else:\n",
        "    print(\"Pas bissextile\")"
      ],
      "metadata": {
        "id": "0vJTduElL9Z3",
        "colab": {
          "base_uri": "https://localhost:8080/"
        },
        "outputId": "455fe13f-4743-4b78-b445-6c46b58f003a"
      },
      "execution_count": null,
      "outputs": [
        {
          "output_type": "stream",
          "name": "stdout",
          "text": [
            "Entrez une année : 2024\n",
            "Bissextile\n"
          ]
        }
      ]
    },
    {
      "cell_type": "markdown",
      "source": [
        "\n",
        "<br><br><br><br>\n",
        "--- ---\n",
        "<br><br><br><br>\n",
        "\n",
        "\n"
      ],
      "metadata": {
        "id": "A55T7i6GOunu"
      }
    },
    {
      "cell_type": "markdown",
      "source": [
        "## Exercice 9 : Nombres paires\n",
        "\n",
        "Écrire un programme qui affiche les nombres pairs compris entre 0 et 100 en utilisant une boucle while."
      ],
      "metadata": {
        "id": "ETsOwO8vNTBO"
      }
    },
    {
      "cell_type": "code",
      "source": [
        "# Initialiser la variable à 0\n",
        "nombre = 0\n",
        "\n",
        "# Boucle while pour afficher les nombres pairs compris entre 0 et 100\n",
        "while nombre <= 100:\n",
        "    # Afficher le nombre\n",
        "    print(nombre)\n",
        "    # Incrémenter la variable de 2\n",
        "    nombre += 2"
      ],
      "metadata": {
        "id": "tPmc_UK-NSbd",
        "colab": {
          "base_uri": "https://localhost:8080/"
        },
        "outputId": "cb99b487-96e2-4b2e-99c8-81ba6e73e286"
      },
      "execution_count": null,
      "outputs": [
        {
          "output_type": "stream",
          "name": "stdout",
          "text": [
            "0\n",
            "2\n",
            "4\n",
            "6\n",
            "8\n",
            "10\n",
            "12\n",
            "14\n",
            "16\n",
            "18\n",
            "20\n",
            "22\n",
            "24\n",
            "26\n",
            "28\n",
            "30\n",
            "32\n",
            "34\n",
            "36\n",
            "38\n",
            "40\n",
            "42\n",
            "44\n",
            "46\n",
            "48\n",
            "50\n",
            "52\n",
            "54\n",
            "56\n",
            "58\n",
            "60\n",
            "62\n",
            "64\n",
            "66\n",
            "68\n",
            "70\n",
            "72\n",
            "74\n",
            "76\n",
            "78\n",
            "80\n",
            "82\n",
            "84\n",
            "86\n",
            "88\n",
            "90\n",
            "92\n",
            "94\n",
            "96\n",
            "98\n",
            "100\n"
          ]
        }
      ]
    },
    {
      "cell_type": "markdown",
      "source": [
        "## Exercice 10 : Mot de passe\n",
        "\n",
        "Écrire un programme qui demande à l'utilisateur de saisir un mot de passe et qui vérifie si le mot de passe saisi est correct (par exemple \"secret\"). Le programme doit continuer à demander le mot de passe jusqu'à ce que l'utilisateur saisisse le bon mot de passe."
      ],
      "metadata": {
        "id": "FClK7HIFNgIq"
      }
    },
    {
      "cell_type": "code",
      "source": [
        "# Initialiser la variable à une valeur fausse\n",
        "mot_de_passe_correct = False\n",
        "mot_de_passe = \"secret\"\n",
        "\n",
        "# Boucle while pour demander le mot de passe jusqu'à ce qu'il soit correct\n",
        "while mot_de_passe_correct == False:\n",
        "\n",
        "    # Demander à l'utilisateur de saisir le mot de passe\n",
        "    mot_de_passe_utilisateur = input(\"Entrez le mot de passe : \")\n",
        "\n",
        "    # Vérifier si le mot de passe saisi est correct\n",
        "    if mot_de_passe == mot_de_passe_utilisateur:\n",
        "        mot_de_passe_correct = True\n",
        "    else:\n",
        "        print(\"Mot de passe incorrect. Essayez à nouveau.\")\n",
        "\n",
        "# Afficher un message de succès\n",
        "print(\"Mot de passe correct !\")"
      ],
      "metadata": {
        "id": "c2Nn5JHrNge9",
        "colab": {
          "base_uri": "https://localhost:8080/"
        },
        "outputId": "32d57b37-2d89-4053-af88-76893f16e452"
      },
      "execution_count": null,
      "outputs": [
        {
          "output_type": "stream",
          "name": "stdout",
          "text": [
            "Entrez le mot de passe : a\n",
            "Mot de passe incorrect. Essayez à nouveau.\n",
            "Entrez le mot de passe : 1\n",
            "Mot de passe incorrect. Essayez à nouveau.\n",
            "Entrez le mot de passe : Secret\n",
            "Mot de passe incorrect. Essayez à nouveau.\n",
            "Entrez le mot de passe : secret\n",
            "Mot de passe correct !\n"
          ]
        }
      ]
    },
    {
      "cell_type": "markdown",
      "source": [
        "## Exercice 11 : Fibonacci\n",
        "Écrire un programme qui demande à l'utilisateur de saisir un nombre et qui affiche la suite de Fibonacci jusqu'à ce que le nombre saisi soit atteint en utilisant une boucle while.\n",
        "\n",
        "La suite de Fibonacci est définie comme suit : les deux premiers termes sont 0 et 1, et chaque terme suivant est la somme des deux termes précédents. Par exemple, si l'utilisateur saisit le nombre 10, le programme doit afficher la suite suivante : 0, 1, 1, 2, 3, 5, 8."
      ],
      "metadata": {
        "id": "bJXupszjOHrC"
      }
    },
    {
      "cell_type": "code",
      "source": [
        "# Demander à l'utilisateur de saisir un nombre\n",
        "nombre = int(input(\"Entrez un nombre : \"))\n",
        "\n",
        "# Initialiser les deux premiers termes de la suite de Fibonacci\n",
        "terme1 = 0\n",
        "terme2 = 1\n",
        "\n",
        "# Boucle while pour calculer et afficher les termes de la suite de Fibonacci\n",
        "while terme1 <= nombre:\n",
        "    # Afficher le terme actuel\n",
        "    print(terme1)\n",
        "\n",
        "    # Calculer le terme suivant\n",
        "    terme_suivant = terme1 + terme2\n",
        "\n",
        "    # Mettre à jour les termes précédents\n",
        "    terme1 = terme2\n",
        "    terme2 = terme_suivant"
      ],
      "metadata": {
        "id": "akWw7NSnOH9v",
        "colab": {
          "base_uri": "https://localhost:8080/"
        },
        "outputId": "3763c1bd-b70f-471f-e47d-7329a026be64"
      },
      "execution_count": null,
      "outputs": [
        {
          "output_type": "stream",
          "name": "stdout",
          "text": [
            "Entrez un nombre : 100\n",
            "0\n",
            "1\n",
            "1\n",
            "2\n",
            "3\n",
            "5\n",
            "8\n",
            "13\n",
            "21\n",
            "34\n",
            "55\n",
            "89\n"
          ]
        }
      ]
    },
    {
      "cell_type": "markdown",
      "source": [
        "## Exercice 12 : Calcul de Moyenne V2\n",
        "Écrivez un programme qui calcule la moyenne de X notes saisis par l'utilisateur et affiche le résultat.\n",
        "\n",
        "Le nombre de notes à saisir X doit aussi être saisi par l'utilisateur."
      ],
      "metadata": {
        "id": "5sv1l8o_OISY"
      }
    },
    {
      "cell_type": "code",
      "source": [
        "# Demander à l'utilisateur de saisir le nombre de notes à saisir\n",
        "nombre_de_notes = int(input(\"Entrez le nombre de notes à saisir : \"))\n",
        "\n",
        "# Initialiser la variable somme à 0 et le compteur à 0\n",
        "somme = 0\n",
        "compteur = 0\n",
        "\n",
        "# Boucle while pour saisir et ajouter les notes\n",
        "while compteur < nombre_de_notes:\n",
        "\n",
        "    # Demander à l'utilisateur de saisir une note\n",
        "    note = float(input(\"Entrez la note n°\" + str(compteur + 1) + \" :\"))\n",
        "\n",
        "    # Ajouter la note à la variable somme\n",
        "    somme = somme + note\n",
        "\n",
        "    # Incrémenter le compteur\n",
        "    compteur = compteur + 1\n",
        "\n",
        "# Calculer la moyenne\n",
        "moyenne = somme / nombre_de_notes\n",
        "\n",
        "# Afficher le résultat\n",
        "print(\"La moyenne des notes est :\", moyenne)"
      ],
      "metadata": {
        "id": "02yeroFdOInH",
        "colab": {
          "base_uri": "https://localhost:8080/"
        },
        "outputId": "5717d9bf-f78e-48f8-edf5-f0ea1a2ef310"
      },
      "execution_count": null,
      "outputs": [
        {
          "output_type": "stream",
          "name": "stdout",
          "text": [
            "Entrez le nombre de notes à saisir : 3\n",
            "Entrez la note n°1 :10\n",
            "Entrez la note n°2 :15\n",
            "Entrez la note n°3 :20\n",
            "La moyenne des notes est : 15.0\n"
          ]
        }
      ]
    },
    {
      "cell_type": "markdown",
      "source": [
        "\n",
        "<br><br><br><br>\n",
        "--- ---\n",
        "<br><br><br><br>\n",
        "\n",
        "\n"
      ],
      "metadata": {
        "id": "jA3u0M8tPn7p"
      }
    },
    {
      "cell_type": "markdown",
      "source": [
        "## Exercice 13 : Parité V2\n",
        "Écrire une fonction `Est_Pair(nombre)` qui prend en paramètre un nombre et qui affiche \"Pair\" si le nombre est pair et \"Impair\" sinon."
      ],
      "metadata": {
        "id": "lHnX2BPHPoM5"
      }
    },
    {
      "cell_type": "code",
      "source": [
        "def Est_Pair(nombre):\n",
        "    # Vérifier si le nombre est pair ou impair\n",
        "    if nombre % 2 == 0:\n",
        "        print(\"Pair\")\n",
        "    else:\n",
        "        print(\"Impair\")\n",
        "\n",
        "# Appeler la fonction avec le nombre 4\n",
        "Est_Pair(4)\n",
        "\n",
        "# Appeler la fonction avec le nombre 7\n",
        "Est_Pair(7)"
      ],
      "metadata": {
        "id": "M50tJ7dtPodE",
        "colab": {
          "base_uri": "https://localhost:8080/"
        },
        "outputId": "bac4855f-a756-4a25-90fa-6c2805388c54"
      },
      "execution_count": null,
      "outputs": [
        {
          "output_type": "stream",
          "name": "stdout",
          "text": [
            "Pair\n",
            "Impair\n"
          ]
        }
      ]
    },
    {
      "cell_type": "markdown",
      "source": [
        "## Exercice 14 : Calcule du plus grand\n",
        "Écrire une fonction `Plus_Grand(nombre1, nombre2)` qui prend en paramètres deux nombres et qui renvoie le plus grand des deux nombres. Si les deux nombres sont égaux, la fonction doit renvoyer \"Les deux nombres sont égaux\"."
      ],
      "metadata": {
        "id": "iInTpodYQLgg"
      }
    },
    {
      "cell_type": "code",
      "source": [
        "def Plus_Grand(nombre1, nombre2):\n",
        "    # Vérifier si les deux nombres sont égaux\n",
        "    if nombre1 == nombre2:\n",
        "        return \"Les deux nombres sont égaux\"\n",
        "    # Vérifier si le premier nombre est plus grand que le deuxième\n",
        "    elif nombre1 > nombre2:\n",
        "        return nombre1\n",
        "    # Sinon, le deuxième nombre est plus grand que le premier\n",
        "    else:\n",
        "        return nombre2\n",
        "\n",
        "# Appeler la fonction avec les nombres 7 et 3\n",
        "resultat = Plus_Grand(7, 3)\n",
        "print(resultat)\n",
        "\n",
        "# Appeler la fonction avec les nombres 7 et 3\n",
        "resultat = Plus_Grand(-1, 3)\n",
        "print(resultat)\n",
        "\n",
        "# Appeler la fonction avec les nombres 5 et 5\n",
        "resultat = Plus_Grand(5, 5)\n",
        "print(resultat)"
      ],
      "metadata": {
        "id": "-dqQ0xHHQLxA",
        "colab": {
          "base_uri": "https://localhost:8080/"
        },
        "outputId": "5c588f70-3750-422e-8eaf-d4f86e9e05c9"
      },
      "execution_count": null,
      "outputs": [
        {
          "output_type": "stream",
          "name": "stdout",
          "text": [
            "7\n",
            "3\n",
            "Les deux nombres sont égaux\n"
          ]
        }
      ]
    },
    {
      "cell_type": "markdown",
      "source": [
        "## Exercice 15 : Factorielle\n",
        "Écrire une fonction `Factorielle(nombre)` qui prend en paramètre un nombre et qui renvoie sa factorielle.\n",
        "\n",
        "La factorielle d'un nombre entier n est le produit des nombres entiers strictement positifs inférieurs ou égaux à n.\n",
        "\n",
        "Par exemple, la factorielle de 5 est égale à 1x2x3x4x5=120."
      ],
      "metadata": {
        "id": "q9q7ZbKMQMA8"
      }
    },
    {
      "cell_type": "code",
      "source": [
        "def Factorielle(nombre):\n",
        "    # Initialiser la variable produit à 1\n",
        "    produit = 1\n",
        "\n",
        "    # Boucle while pour calculer la factorielle\n",
        "    i = 1\n",
        "    while i <= nombre:\n",
        "        produit = produit * i\n",
        "        i = i + 1\n",
        "    return produit\n",
        "\n",
        "    # Renvoie la factorielle\n",
        "    return produit\n",
        "\n",
        "# Appeler la fonction avec le nombre 5\n",
        "resultat = Factorielle(5)\n",
        "print(resultat)"
      ],
      "metadata": {
        "id": "NwE79WwGQMWQ",
        "colab": {
          "base_uri": "https://localhost:8080/"
        },
        "outputId": "36c1da53-c08f-4a7d-cf6c-5f7617537000"
      },
      "execution_count": null,
      "outputs": [
        {
          "output_type": "stream",
          "name": "stdout",
          "text": [
            "120\n"
          ]
        }
      ]
    },
    {
      "cell_type": "markdown",
      "source": [
        "## Exercice 16 : Conversion de température\n",
        "\n",
        "Créez une fonction `Celsius_vers_fahrenheit(celsius)` qui prend en paramètre une température en degrés Celsius et renvoie la température équivalente en degrés Fahrenheit. Utilisez la formule F = C * 9/5 + 32."
      ],
      "metadata": {
        "id": "VSsQrEtBQNry"
      }
    },
    {
      "cell_type": "code",
      "source": [
        "def celsius_vers_fahrenheit(celsius):\n",
        "    fahrenheit = celsius * 9 / 5 + 32\n",
        "    return fahrenheit\n",
        "\n",
        "# Exemple d'utilisation de la fonction\n",
        "temp_celsius = 20\n",
        "temp_fahrenheit = celsius_vers_fahrenheit(temp_celsius)\n",
        "print(str(temp_celsius) + \"°C équivaut à \" + str(temp_fahrenheit) + \"°F\")"
      ],
      "metadata": {
        "id": "lTLilFQrQN7C",
        "colab": {
          "base_uri": "https://localhost:8080/"
        },
        "outputId": "64f04988-be26-4899-e15f-4fabf986a843"
      },
      "execution_count": null,
      "outputs": [
        {
          "output_type": "stream",
          "name": "stdout",
          "text": [
            "20°C équivaut à 68.0°F\n"
          ]
        }
      ]
    },
    {
      "cell_type": "markdown",
      "source": [
        "\n",
        "<br><br><br><br>\n",
        "--- ---\n",
        "<br><br><br><br>\n",
        "\n",
        "\n"
      ],
      "metadata": {
        "id": "EK9UVOySQPNu"
      }
    },
    {
      "cell_type": "markdown",
      "source": [
        "## Exercice 17 : Calcul de Moyenne V3\n",
        "\n",
        "Écrire une fonction `Moyenne_V3(liste_de_notes)` qui prend en paramètre une liste de nombres et qui renvoie la moyenne de ces nombres."
      ],
      "metadata": {
        "id": "rh28oA3AUqp_"
      }
    },
    {
      "cell_type": "code",
      "source": [
        "def moyenne_v3_sans_sum(liste_de_notes):\n",
        "    somme_des_notes = 0\n",
        "\n",
        "    for note in liste_de_notes:\n",
        "        somme_des_notes = somme_des_notes + note\n",
        "\n",
        "    nombre_de_notes = len(liste_de_notes)\n",
        "    moyenne = somme_des_notes / nombre_de_notes\n",
        "\n",
        "    return moyenne\n",
        "\n",
        "# Exemple d'utilisation de la fonction\n",
        "notes = [12, 14, 16, 8, 18]\n",
        "moyenne = moyenne_v3_sans_sum(notes)\n",
        "print(\"La moyenne des notes est de \" + str(moyenne))"
      ],
      "metadata": {
        "id": "GvKwxNCyUq7W",
        "colab": {
          "base_uri": "https://localhost:8080/"
        },
        "outputId": "e2a761ed-eb43-4915-db57-90964be07dd7"
      },
      "execution_count": null,
      "outputs": [
        {
          "output_type": "stream",
          "name": "stdout",
          "text": [
            "La moyenne des notes est de 13.6\n"
          ]
        }
      ]
    },
    {
      "cell_type": "markdown",
      "source": [
        "## Exercice 18 : Nombre Paire\n",
        "Écrire une fonction `Nombre_de_paires` qui prend en paramètre une liste de nombres et qui renvoie le nombre de nombres pairs dans cette liste."
      ],
      "metadata": {
        "id": "Lc8EMvCYVSnY"
      }
    },
    {
      "cell_type": "code",
      "source": [
        "def nombre_de_paires(liste_de_nombres):\n",
        "    compteur_paires = 0\n",
        "\n",
        "    for nombre in liste_de_nombres:\n",
        "        if nombre % 2 == 0:\n",
        "            compteur_paires = compteur_paires + 1\n",
        "\n",
        "    return compteur_paires\n",
        "\n",
        "# Exemple d'utilisation de la fonction\n",
        "nombres = [3, 5, 7, 8, 10, 12, 15, 18]\n",
        "nombre_paires = nombre_de_paires(nombres)\n",
        "print(\"Il y a \" + str(nombre_paires) + \" nombres pairs dans la liste.\")"
      ],
      "metadata": {
        "id": "C53N_LQlVS94",
        "colab": {
          "base_uri": "https://localhost:8080/"
        },
        "outputId": "8d18f38c-7cf3-467c-a72d-b84c6fbd95eb"
      },
      "execution_count": null,
      "outputs": [
        {
          "output_type": "stream",
          "name": "stdout",
          "text": [
            "Il y a 4 nombres pairs dans la liste.\n"
          ]
        }
      ]
    },
    {
      "cell_type": "markdown",
      "source": [
        "## Exercice 19 : Maximum d'une liste\n",
        "Écrire un programme qui demande à l'utilisateur de saisir une liste de nombres et qui affiche le plus grand nombre de la liste.\n",
        "\n",
        "La liste est remplie avec un `while`.\n",
        "Le nombre de valeur de la liste est aussi demandé à l'utilisateur."
      ],
      "metadata": {
        "id": "ag7yMqu2VTJO"
      }
    },
    {
      "cell_type": "code",
      "source": [
        "def trouver_maximum(liste_de_nombres):\n",
        "    maximum = liste_de_nombres[0]\n",
        "\n",
        "    for nombre in liste_de_nombres:\n",
        "        if nombre > maximum:\n",
        "            maximum = nombre\n",
        "\n",
        "    return maximum\n",
        "\n",
        "n = int(input(\"Entrez le nombre de valeurs dans la liste : \"))\n",
        "liste_de_nombres = []\n",
        "i = 0\n",
        "while i < n:\n",
        "    nombre = int(input(\"Entrez la valeur n°\" + str(i + 1) + \" : \"))\n",
        "    liste_de_nombres.append(nombre)\n",
        "    i = i + 1\n",
        "\n",
        "maximum = trouver_maximum(liste_de_nombres)\n",
        "print(\"Le plus grand nombre de la liste est : \" + str(maximum))"
      ],
      "metadata": {
        "id": "UC_5OZiXVTcy",
        "colab": {
          "base_uri": "https://localhost:8080/"
        },
        "outputId": "8041f408-594a-4ec3-82cc-4a0d69a304bd"
      },
      "execution_count": null,
      "outputs": [
        {
          "output_type": "stream",
          "name": "stdout",
          "text": [
            "Entrez le nombre de valeurs dans la liste : 3\n",
            "Entrez la valeur n°1 : 1\n",
            "Entrez la valeur n°2 : 3\n",
            "Entrez la valeur n°3 : 1\n",
            "Le plus grand nombre de la liste est : 3\n"
          ]
        }
      ]
    },
    {
      "cell_type": "markdown",
      "source": [
        "## Exercice 20 : Réutilisation de fonction\n",
        "Écrire un programme qui demande à l'utilisateur de saisir une liste de nombres et qui supprime tous les nombres pairs de la liste.\n",
        "\n",
        "La verification de parité doit utiliser une fonction `Est_PairV2(nombre)`"
      ],
      "metadata": {
        "id": "ROMBwUawVUYs"
      }
    },
    {
      "cell_type": "code",
      "source": [
        "def Est_PairV2(nombre):\n",
        "    return nombre % 2 == 0 # retourne True ou False\n",
        "\n",
        "def supprimer_pairs(liste):\n",
        "    i = 0\n",
        "\n",
        "    while i < len(liste):\n",
        "\n",
        "        if Est_PairV2(liste[i]):\n",
        "            liste.pop(i)\n",
        "        else:\n",
        "            i = i + 1 # dans le else pour ne pas décaler le tableau\n",
        "\n",
        "n = int(input(\"Entrez le nombre de valeurs dans la liste : \"))\n",
        "liste_de_nombres = []\n",
        "i = 0\n",
        "\n",
        "while i < n:\n",
        "    nombre = int(input(\"Entrez la valeur n°\" + str(i + 1) + \" : \"))\n",
        "    liste_de_nombres.append(nombre)\n",
        "    i = i + 1\n",
        "\n",
        "supprimer_pairs(liste_de_nombres)\n",
        "print(liste_de_nombres)"
      ],
      "metadata": {
        "id": "mD3l_IpVVUnx",
        "colab": {
          "base_uri": "https://localhost:8080/"
        },
        "outputId": "eb8f0406-25fc-4bc4-b474-0b575be68c9f"
      },
      "execution_count": null,
      "outputs": [
        {
          "output_type": "stream",
          "name": "stdout",
          "text": [
            "Entrez le nombre de valeurs dans la liste : 10\n",
            "Entrez la valeur n°1 : 1\n",
            "Entrez la valeur n°2 : 3\n",
            "Entrez la valeur n°3 : 2\n",
            "Entrez la valeur n°4 : 5\n",
            "Entrez la valeur n°5 : 8\n",
            "Entrez la valeur n°6 : 10\n",
            "Entrez la valeur n°7 : 7\n",
            "Entrez la valeur n°8 : 7\n",
            "Entrez la valeur n°9 : 7\n",
            "Entrez la valeur n°10 : 7\n",
            "[1, 3, 5, 7, 7, 7, 7]\n"
          ]
        }
      ]
    },
    {
      "cell_type": "markdown",
      "source": [
        "\n",
        "<br><br><br><br>\n",
        "--- ---\n",
        "<br><br><br><br>\n",
        "\n",
        "\n"
      ],
      "metadata": {
        "id": "owz_vFg5WhGc"
      }
    },
    {
      "cell_type": "markdown",
      "source": [
        "## Exercice 21 : Test de l'importation de module\n",
        "Écrire un programme qui utilise le module `math` pour calculer la racine carrée et le carré d'un nombre saisi par l'utilisateur."
      ],
      "metadata": {
        "id": "Qgtoi7ebWhdC"
      }
    },
    {
      "cell_type": "code",
      "source": [
        "import math\n",
        "\n",
        "nombre = float(input(\"Entrez un nombre : \"))\n",
        "\n",
        "print(math.sqrt(nombre))\n",
        "print(math.pow(nombre, 2))"
      ],
      "metadata": {
        "id": "lscghsBgWhwH",
        "colab": {
          "base_uri": "https://localhost:8080/"
        },
        "outputId": "76d2e911-07ed-499f-cfe6-9aa887f4557b"
      },
      "execution_count": null,
      "outputs": [
        {
          "output_type": "stream",
          "name": "stdout",
          "text": [
            "Entrez un nombre : 100\n",
            "10.0\n",
            "10000.0\n"
          ]
        }
      ]
    },
    {
      "cell_type": "markdown",
      "source": [
        "## Exercice 22 : Jeu de devinette\n",
        "Écrire un programme qui génère un nombre aléatoire avec `random.randint(1, 100)` entre 1 et 100 et qui demande à l'utilisateur de deviner ce nombre.\n",
        "\n",
        "Le programme doit indiquer à l'utilisateur si son nombre est trop petit ou trop grand et continuer à demander jusqu'à ce que l'utilisateur trouve le bon nombre.\n",
        "\n",
        "Le programme doit afficher le nombre de tentatives effectuées par l'utilisateur.\n",
        "\n",
        "Voici un exemple d'exécution du programme :\n",
        "\n",
        "    Le nombre à deviner est compris entre 1 et 100.\n",
        "    Entrez un nombre : 50\n",
        "    Trop petit !\n",
        "    Entrez un nombre : 75\n",
        "    Trop grand !\n",
        "    Entrez un nombre : 62\n",
        "    Trop petit !\n",
        "    Entrez un nombre : 68\n",
        "    Trop grand !\n",
        "    Entrez un nombre : 65\n",
        "    Trop petit !\n",
        "    Entrez un nombre : 66\n",
        "    Trop grand !\n",
        "    Entrez un nombre : 65\n",
        "    Bravo, vous avez trouvé le nombre en 7 tentatives !"
      ],
      "metadata": {
        "id": "-wuNmivbX4Sx"
      }
    },
    {
      "cell_type": "code",
      "source": [
        "import random\n",
        "\n",
        "\n",
        "nombre_mystere = random.randint(1, 100)\n",
        "tentatives = 0\n",
        "fin_du_jeu = False\n",
        "\n",
        "print(\"Le nombre à deviner est compris entre 1 et 100.\")\n",
        "\n",
        "while fin_du_jeu == False:\n",
        "    tentatives = tentatives + 1\n",
        "    nombre_utilisateur = int(input(\"Entrez un nombre : \"))\n",
        "\n",
        "    if nombre_utilisateur < nombre_mystere:\n",
        "        print(\"Trop petit !\")\n",
        "    elif nombre_utilisateur > nombre_mystere:\n",
        "        print(\"Trop grand !\")\n",
        "    else:\n",
        "        print(\"Bravo ! Vous avez trouvé le nombre en \" + str(tentatives) + \" tentatives !\")\n",
        "        fin_du_jeu = True\n"
      ],
      "metadata": {
        "id": "oCdiudyjX4ng",
        "colab": {
          "base_uri": "https://localhost:8080/"
        },
        "outputId": "4ce00947-2144-446b-d1d1-df30012ec746"
      },
      "execution_count": null,
      "outputs": [
        {
          "output_type": "stream",
          "name": "stdout",
          "text": [
            "Le nombre à deviner est compris entre 1 et 100.\n",
            "Entrez un nombre : 4\n",
            "Trop petit !\n",
            "Entrez un nombre : 50\n",
            "Trop grand !\n",
            "Entrez un nombre : 25\n",
            "Trop grand !\n",
            "Entrez un nombre : 10\n",
            "Trop petit !\n",
            "Entrez un nombre : 15\n",
            "Trop petit !\n",
            "Entrez un nombre : 20\n",
            "Trop petit !\n",
            "Entrez un nombre : 23\n",
            "Trop grand !\n",
            "Entrez un nombre : 22\n",
            "Bravo ! Vous avez trouvé le nombre en 8 tentatives !\n"
          ]
        }
      ]
    },
    {
      "cell_type": "markdown",
      "source": [
        "**En plus :**\n",
        "\n",
        "Le programme doit afficher le temps écoulé entre le début et la fin du jeu avec `time.time()`.\n",
        "\n",
        "Voici un exemple de fin d'exécution du programme :\n",
        "\n",
        "    ... le même jeu ...\n",
        "    Temps écoulé : 35.21 secondes"
      ],
      "metadata": {
        "id": "H7jfmZfdYqFl"
      }
    },
    {
      "cell_type": "code",
      "source": [
        "import random\n",
        "import time # changement pour le temps\n",
        "\n",
        "\n",
        "nombre_mystere = random.randint(1, 100)\n",
        "tentatives = 0\n",
        "fin_du_jeu = False\n",
        "temps_debut = time.time() # changement pour le temps\n",
        "\n",
        "print(\"Le nombre à deviner est compris entre 1 et 100.\")\n",
        "\n",
        "while fin_du_jeu == False:\n",
        "    tentatives = tentatives + 1\n",
        "    nombre_utilisateur = int(input(\"Entrez un nombre : \"))\n",
        "\n",
        "    if nombre_utilisateur < nombre_mystere:\n",
        "        print(\"Trop petit !\")\n",
        "    elif nombre_utilisateur > nombre_mystere:\n",
        "        print(\"Trop grand !\")\n",
        "    else:\n",
        "        temps_ecoule = time.time() - temps_debut # changement pour le temps\n",
        "        print(\"Bravo ! Vous avez trouvé le nombre en \" + str(tentatives) + \" tentatives !\")\n",
        "        print(f\"Temps écoulé : \" + str(temps_ecoule) + \" secondes.\") # changement pour le temps\n",
        "        fin_du_jeu = True\n"
      ],
      "metadata": {
        "id": "hepUXQ4CYq8E",
        "colab": {
          "base_uri": "https://localhost:8080/"
        },
        "outputId": "2ce2e6b9-0250-464c-8825-9802c759aae1"
      },
      "execution_count": null,
      "outputs": [
        {
          "output_type": "stream",
          "name": "stdout",
          "text": [
            "Le nombre à deviner est compris entre 1 et 100.\n",
            "Entrez un nombre : 50\n",
            "Trop petit !\n",
            "Entrez un nombre : 75\n",
            "Trop petit !\n",
            "Entrez un nombre : 80\n",
            "Trop petit !\n",
            "Entrez un nombre : 90\n",
            "Trop petit !\n",
            "Entrez un nombre : 95\n",
            "Trop petit !\n",
            "Entrez un nombre : 99\n",
            "Trop grand !\n",
            "Entrez un nombre : 96\n",
            "Trop petit !\n",
            "Entrez un nombre : 98\n",
            "Trop grand !\n",
            "Entrez un nombre : 97\n",
            "Bravo ! Vous avez trouvé le nombre en 9 tentatives !\n",
            "Temps écoulé : 30.71776008605957 secondes.\n"
          ]
        }
      ]
    },
    {
      "cell_type": "markdown",
      "source": [
        "\n",
        "<br><br><br><br>\n",
        "--- ---\n",
        "<br><br><br><br>\n",
        "\n",
        "\n"
      ],
      "metadata": {
        "id": "lcjykMIAaD9_"
      }
    },
    {
      "cell_type": "markdown",
      "source": [
        "## Jeu de Nime\n",
        "Dans ce jeu, deux joueurs s'affrontent en retirant tour à tour un ou plusieurs allumettes d'un tas. Le joueur qui retire la dernière allumette perd la partie.\n",
        "\n",
        "Voici un exercice guidé pour réaliser ce jeu en Python :\n",
        "\n",
        "- Créer une variable nb_allumettes initialisée à 20 (ou toute autre valeur de votre choix).\n",
        "\n",
        "- Créer une variable joueur initialisée à 1.\n",
        "\n",
        "- Créer une boucle while qui continue tant que nb_allumettes est supérieur à 0.\n",
        "\n",
        "- Dans la boucle, afficher le nombre d'allumettes restantes et demander au joueur actuel de retirer un ou plusieurs allumettes.\n",
        "\n",
        "- Vérifier que le nombre d'allumettes retirées est compris entre 1 et 3 (ou toute autre valeur de votre choix).\n",
        "\n",
        "- Si ce n'est pas le cas, afficher un message d'erreur et redemander au joueur de saisir un nombre valide.\n",
        "\n",
        "- Retirer le nombre d'allumettes saisi par le joueur du tas.\n",
        "Passer au joueur suivant en alternant la valeur de la variable joueur entre 1 et 2.\n",
        "\n",
        "- À la fin de la boucle, afficher un message indiquant quel joueur a gagné la partie.\n",
        "\n",
        "Voici un exemple d'exécution du programme :\n",
        "\n",
        "    Il reste 20 allumettes.\n",
        "    Joueur 1, combien d'allumettes voulez-vous retirer (1, 2 ou 3) ? 3\n",
        "    Il reste 17 allumettes.\n",
        "    Joueur 2, combien d'allumettes voulez-vous retirer (1, 2 ou 3) ? 3\n",
        "    Il reste 14 allumettes.\n",
        "    Joueur 1, combien d'allumettes voulez-vous retirer (1, 2 ou 3) ? 3\n",
        "    Il reste 11 allumettes.\n",
        "    Joueur 2, combien d'allumettes voulez-vous retirer (1, 2 ou 3) ? 3\n",
        "    Il reste 8 allumettes.\n",
        "    Joueur 1, combien d'allumettes voulez-vous retirer (1, 2 ou 3) ? 3\n",
        "    Il reste 5 allumettes.\n",
        "    Joueur 2, combien d'allumettes voulez-vous retirer (1, 2 ou 3) ? 3\n",
        "    Il reste 2 allumettes.\n",
        "    Joueur 1, combien d'allumettes voulez-vous retirer (1, 2 ou 3) ? 3\n",
        "    Nombre invalide d'allumettes ! Veuillez choisir à nouveau.\n",
        "    Joueur 1, combien d'allumettes voulez-vous retirer (1, 2 ou 3) ? 3\n",
        "    Nombre invalide d'allumettes ! Veuillez choisir à nouveau.\n",
        "    Joueur 1, combien d'allumettes voulez-vous retirer (1, 2 ou 3) ? 2\n",
        "    Joueur 1 a retiré la dernière allumette. Joueur 2 gagne !"
      ],
      "metadata": {
        "id": "QBy9ctn6biBv"
      }
    },
    {
      "cell_type": "code",
      "source": [
        "nb_allumettes = 20  # Nombre total d'allumettes au début\n",
        "joueur = 1  # Joueur 1 commence\n",
        "\n",
        "while nb_allumettes > 0:\n",
        "    print(\"Il reste \" + str(nb_allumettes) + \" allumettes.\")\n",
        "\n",
        "    choix = int(input(\"Joueur \" + str(joueur) + \", combien d'allumettes voulez-vous retirer (1, 2 ou 3) ? \"))\n",
        "\n",
        "    #choix invalide\n",
        "    while choix < 1 or choix > 3 or choix > nb_allumettes:\n",
        "        print(\"Nombre invalide d'allumettes ! Veuillez choisir à nouveau.\")\n",
        "        choix = int(input(\"Joueur \" + str(joueur) + \", combien d'allumettes voulez-vous retirer (1, 2 ou 3) ? \"))\n",
        "\n",
        "    nb_allumettes = nb_allumettes - choix\n",
        "\n",
        "    # Changer de joueur\n",
        "    if joueur == 1:\n",
        "        joueur = 2\n",
        "    else :\n",
        "        joueur = 1\n",
        "\n",
        "print(\"Joueur \" + str(3 - joueur) + \" a retiré la dernière allumette. Joueur \" + str(joueur) + \" gagne !\")\n",
        "\n",
        "# 3 - joueur car :\n",
        "# si joueur = 1 : 3-1 = 2\n",
        "# si joueur = 2 : 3-2 = 1"
      ],
      "metadata": {
        "id": "5jnSTWdJcgLD",
        "colab": {
          "base_uri": "https://localhost:8080/"
        },
        "outputId": "9299024f-ad71-4030-f504-a1397c529362"
      },
      "execution_count": 1,
      "outputs": [
        {
          "output_type": "stream",
          "name": "stdout",
          "text": [
            "Il reste 20 allumettes.\n",
            "Joueur 1, combien d'allumettes voulez-vous retirer (1, 2 ou 3) ? 3\n",
            "Il reste 17 allumettes.\n",
            "Joueur 2, combien d'allumettes voulez-vous retirer (1, 2 ou 3) ? 3\n",
            "Il reste 14 allumettes.\n",
            "Joueur 1, combien d'allumettes voulez-vous retirer (1, 2 ou 3) ? 3\n",
            "Il reste 11 allumettes.\n",
            "Joueur 2, combien d'allumettes voulez-vous retirer (1, 2 ou 3) ? 3\n",
            "Il reste 8 allumettes.\n",
            "Joueur 1, combien d'allumettes voulez-vous retirer (1, 2 ou 3) ? 3\n",
            "Il reste 5 allumettes.\n",
            "Joueur 2, combien d'allumettes voulez-vous retirer (1, 2 ou 3) ? 3\n",
            "Il reste 2 allumettes.\n",
            "Joueur 1, combien d'allumettes voulez-vous retirer (1, 2 ou 3) ? 3\n",
            "Nombre invalide d'allumettes ! Veuillez choisir à nouveau.\n",
            "Joueur 1, combien d'allumettes voulez-vous retirer (1, 2 ou 3) ? 3\n",
            "Nombre invalide d'allumettes ! Veuillez choisir à nouveau.\n",
            "Joueur 1, combien d'allumettes voulez-vous retirer (1, 2 ou 3) ? 2\n",
            "Joueur 1 a retiré la dernière allumette. Joueur 2 gagne !\n"
          ]
        }
      ]
    },
    {
      "cell_type": "markdown",
      "source": [
        "\n",
        "<br><br><br><br>\n",
        "--- ---\n",
        "<br><br><br><br>\n",
        "\n",
        "\n"
      ],
      "metadata": {
        "id": "rSxYyqHbcb1E"
      }
    }
  ]
}